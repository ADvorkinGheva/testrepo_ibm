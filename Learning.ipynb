{
 "cells": [
  {
   "cell_type": "markdown",
   "id": "2267ec6b",
   "metadata": {},
   "source": [
    "# My Jupyter Notebook on IBM Watson Studio"
   ]
  },
  {
   "cell_type": "markdown",
   "id": "e7b5f368",
   "metadata": {},
   "source": [
    "**Anna Dvorkin-Gheva"
   ]
  },
  {
   "cell_type": "markdown",
   "id": "8f7e492c",
   "metadata": {},
   "source": [
    "*I am interested in data science because it is a very powerful tool and because it can be applicable in any area of life. I love big data"
   ]
  },
  {
   "cell_type": "markdown",
   "id": "72c42ee3",
   "metadata": {},
   "source": [
    "### My code prints \"Hello, friend\""
   ]
  },
  {
   "cell_type": "code",
   "execution_count": null,
   "id": "a61ce8d6",
   "metadata": {},
   "outputs": [],
   "source": [
    "print(\"Hello, friend\")"
   ]
  },
  {
   "cell_type": "markdown",
   "id": "ac3426ae",
   "metadata": {},
   "source": [
    "***\n",
    "\n",
    "Here is some important text!\n",
    "\n",
    "***\n",
    "\n",
    "The page of this course can be found at <a href=\"https://www.coursera.org/learn/open-source-tools-for-data-science/ungradedWidget/c1F5I/instructions-create-and-share-your-jupyter-notebook\" target=\"_blank\">this link</a>.\n",
    "\n",
    "`print(\"Hello,friend\")`\n"
   ]
  },
  {
   "cell_type": "code",
   "execution_count": null,
   "id": "cbd273c2",
   "metadata": {},
   "outputs": [],
   "source": []
  }
 ],
 "metadata": {
  "kernelspec": {
   "display_name": "Python 3 (ipykernel)",
   "language": "python",
   "name": "python3"
  },
  "language_info": {
   "codemirror_mode": {
    "name": "ipython",
    "version": 3
   },
   "file_extension": ".py",
   "mimetype": "text/x-python",
   "name": "python",
   "nbconvert_exporter": "python",
   "pygments_lexer": "ipython3",
   "version": "3.9.7"
  }
 },
 "nbformat": 4,
 "nbformat_minor": 5
}
